{
  "nbformat": 4,
  "nbformat_minor": 0,
  "metadata": {
    "colab": {
      "name": "Electrochemical reaction coordinate.ipynb",
      "provenance": [],
      "collapsed_sections": [],
      "authorship_tag": "ABX9TyNhxJ0s0vpxcigkCvsXLfC/",
      "include_colab_link": true
    },
    "kernelspec": {
      "name": "python3",
      "display_name": "Python 3"
    },
    "language_info": {
      "name": "python"
    }
  },
  "cells": [
    {
      "cell_type": "markdown",
      "metadata": {
        "id": "view-in-github",
        "colab_type": "text"
      },
      "source": [
        "<a href=\"https://colab.research.google.com/github/theSeokhyun/KMC_molsim/blob/main/Electrochemical_reaction_coordinate.ipynb\" target=\"_parent\"><img src=\"https://colab.research.google.com/assets/colab-badge.svg\" alt=\"Open In Colab\"/></a>"
      ]
    },
    {
      "cell_type": "markdown",
      "source": [
        "함수화 없이"
      ],
      "metadata": {
        "id": "JLA8nxqdnmK6"
      }
    },
    {
      "cell_type": "code",
      "execution_count": 68,
      "metadata": {
        "colab": {
          "base_uri": "https://localhost:8080/",
          "height": 281
        },
        "id": "zGkFJP-Vmpxg",
        "outputId": "f05dbf03-66fe-461e-b297-1075b8ab8aef"
      },
      "outputs": [
        {
          "output_type": "display_data",
          "data": {
            "image/png": "[encoded data removed]",
            "text/plain": [
              "<Figure size 432x288 with 1 Axes>"
            ]
          },
          "metadata": {
            "needs_background": "light"
          }
        }
      ],
      "source": [
        "import matplotlib.pyplot as plt\n",
        "\n",
        "plt.title('SnO\\u2082')\n",
        "\n",
        "oh=1.67\n",
        "o=3.70\n",
        "ooh=4.32\n",
        "gap = 0.15\n",
        "ideal_x =[0,1,2,3,4,5] \n",
        "ideal_y =[0, 0, 1.23 , 2.46, 3.69,4.92 ]\n",
        "x = [0,1,2,3,4,5] \n",
        "y = [0, 0, oh, o, ooh,4.92 ]\n",
        "\n",
        "ax = plt.gca()\n",
        "ax.set_xlim([0, 5])\n",
        "ax.set_ylim([-0.1, 6])\n",
        "\n",
        "plt.axhline(y=4.92, linestyle='dashed', alpha=0.2,c='gray')\n",
        "plt.axhline(y=3.56, linestyle='dashed', alpha=0.2,c='gray')\n",
        "plt.axhline(y=2.73, linestyle='dashed', alpha=0.2,c='gray')\n",
        "\n",
        "th1 = plt.text(1, 4.92+gap, 'OER=1.23V(4e)', fontsize=10,rotation=0, rotation_mode='anchor',horizontalalignment='center',multialignment='center',verticalalignment='bottom')\n",
        "th1 = plt.text(1,3.56+gap, 'H\\u2082O\\u2082=1.78V(2e)', fontsize=10,rotation=0, rotation_mode='anchor',horizontalalignment='center',multialignment='center',verticalalignment='bottom')\n",
        "th1 = plt.text(1,2.73+gap,'OH=2.73V(1e)', fontsize=10,rotation=0, rotation_mode='anchor',horizontalalignment='center',multialignment='center',verticalalignment='bottom')\n",
        "\n",
        "ax.text(0.4, 0+gap, 'H\\u2082O', fontsize=10)\n",
        "ax.text(1.4, oh+gap, 'OH*', fontsize=10)\n",
        "ax.text(2.4, o+gap, 'O*', fontsize=10)\n",
        "ax.text(3.4, ooh+gap, 'OOH*', fontsize=10)\n",
        "ax.text(4.4, 4.92+gap, 'O\\u2082', fontsize=10)\n",
        "\n",
        "\n",
        "plt.margins(x=0,y=0)\n",
        "plt.xlabel('Reaction Coordinate', fontsize=12)\n",
        "plt.ylabel('ΔG(eV)', fontsize=12)\n",
        "ax.axes.xaxis.set_ticks([])\n",
        "\n",
        "plt.step(ideal_x, ideal_y,'gray',linestyle='--',label = \"Ideal\")\n",
        "\n",
        "plt.step(x, y,'black',label = \"SnO\\u2082\")\n",
        "\n",
        "plt.legend(loc='lower right')\n",
        "\n",
        "plt.show()\n",
        "\n",
        "\n",
        "colors=['blue', 'green', 'red', 'yellow', 'orange', 'purple', \n",
        "        'cyan', 'magenta', 'pink', 'black']"
      ]
    }
  ]
}